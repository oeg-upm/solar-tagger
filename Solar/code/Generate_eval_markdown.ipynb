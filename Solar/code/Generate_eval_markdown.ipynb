{
 "cells": [
  {
   "cell_type": "code",
   "execution_count": 1,
   "id": "fe0a6cf5-42a3-4a92-a2bb-8ae42ec41657",
   "metadata": {},
   "outputs": [
    {
     "name": "stdout",
     "output_type": "stream",
     "text": [
      "\u001b[33mWARNING: The directory '/home/jovyan/.cache/pip' or its parent directory is not owned or is not writable by the current user. The cache has been disabled. Check the permissions and owner of that directory. If executing pip with sudo, you should use sudo's -H flag.\u001b[0m\u001b[33m\n",
      "\u001b[0mCollecting markdown\n",
      "  Downloading Markdown-3.6-py3-none-any.whl (105 kB)\n",
      "\u001b[2K     \u001b[90m━━━━━━━━━━━━━━━━━━━━━━━━━━━━━━━━━━━━━━\u001b[0m \u001b[32m105.4/105.4 kB\u001b[0m \u001b[31m11.7 MB/s\u001b[0m eta \u001b[36m0:00:00\u001b[0m\n",
      "\u001b[?25hInstalling collected packages: markdown\n",
      "Successfully installed markdown-3.6\n",
      "\u001b[33mWARNING: Running pip as the 'root' user can result in broken permissions and conflicting behaviour with the system package manager. It is recommended to use a virtual environment instead: https://pip.pypa.io/warnings/venv\u001b[0m\u001b[33m\n",
      "\u001b[0m"
     ]
    }
   ],
   "source": [
    "!pip install markdown"
   ]
  },
  {
   "cell_type": "code",
   "execution_count": 28,
   "id": "0f8dcfdc-a954-47a8-817e-f1bcc618482e",
   "metadata": {},
   "outputs": [],
   "source": [
    "from pathlib import Path\n",
    "import json\n",
    "import markdown\n",
    "import pandas as pd"
   ]
  },
  {
   "cell_type": "code",
   "execution_count": 22,
   "id": "ab7447b5-2798-4499-b2c6-21c3dcc5cd5c",
   "metadata": {},
   "outputs": [],
   "source": [
    "def load_json(p):\n",
    "    with open(p, \"rb\") as f:\n",
    "        data = json.load(f)\n",
    "    return data"
   ]
  },
  {
   "cell_type": "code",
   "execution_count": 29,
   "id": "e63a26f3-8215-4c6c-a02e-13a320cba924",
   "metadata": {},
   "outputs": [],
   "source": [
    "def get_avg(result):\n",
    "    val = 0\n",
    "    for item in result:\n",
    "        val += item['acc']\n",
    "    return val/len(result)"
   ]
  },
  {
   "cell_type": "code",
   "execution_count": 25,
   "id": "b90d2fe2-47d0-4323-91fe-00f176dd96b7",
   "metadata": {},
   "outputs": [],
   "source": [
    "res = f\"\"\"\n",
    "| Rank |   Model  | Catalyst | Co-Catalyst | Light Source | Lamp   | Reactor Type | Reaction Medium | Operation Mode | Overall Average |\n",
    "|------|----------|----------|-------------|--------------|--------|--------------|-----------------|----------------|-----------------|\n",
    "\"\"\""
   ]
  },
  {
   "cell_type": "code",
   "execution_count": 48,
   "id": "fffa5701-87c1-4b1f-a061-4846ce80a07f",
   "metadata": {},
   "outputs": [
    {
     "data": {
      "text/plain": [
       "'\\n| Rank |   Model  | Catalyst | Co-Catalyst | Light Source | Lamp   | Reactor Type | Reaction Medium | Operation Mode | Overall Average |\\n|------|----------|----------|-------------|--------------|--------|--------------|-----------------|----------------|-----------------|\\n'"
      ]
     },
     "execution_count": 48,
     "metadata": {},
     "output_type": "execute_result"
    }
   ],
   "source": [
    "res"
   ]
  },
  {
   "cell_type": "code",
   "execution_count": 31,
   "id": "428b30a2-a744-4445-a937-230f47f7289b",
   "metadata": {},
   "outputs": [],
   "source": [
    "rank_res = {}"
   ]
  },
  {
   "cell_type": "code",
   "execution_count": 32,
   "id": "4079efcc-7cb9-4653-85b1-ca060a39844b",
   "metadata": {},
   "outputs": [],
   "source": [
    "for p in Path('/home/jovyan/Solar/result').iterdir():\n",
    "    model_name = str(p).split('/')[-1]\n",
    "    for s in p.rglob('Evaluation.json'):\n",
    "        eval_data = load_json(s)[\"result\"]\n",
    "        rank_res[model_name] = get_avg(eval_data)"
   ]
  },
  {
   "cell_type": "code",
   "execution_count": 36,
   "id": "2adc3ddc-6966-4d08-b113-2da4ffbbf7d3",
   "metadata": {},
   "outputs": [
    {
     "data": {
      "text/plain": [
       "{'LLama_3_70B': 0.6650246305418719,\n",
       " 'GPT4': 0.6551724137931033,\n",
       " 'GPT3.5': 0.5566502463054188,\n",
       " 'LLama_3_8B': 0.5714285714285714,\n",
       " 'GLM4': 0.6551724137931034}"
      ]
     },
     "execution_count": 36,
     "metadata": {},
     "output_type": "execute_result"
    }
   ],
   "source": [
    "rank_res"
   ]
  },
  {
   "cell_type": "code",
   "execution_count": 34,
   "id": "0e562041-7827-489e-8764-27c0adbd46c8",
   "metadata": {},
   "outputs": [],
   "source": [
    "rank = {key: rank for rank, key in enumerate(sorted(rank_res, key=rank_res.get, reverse=True), 1)}"
   ]
  },
  {
   "cell_type": "code",
   "execution_count": 35,
   "id": "ea1385ac-c038-434c-92ef-5f04d9f4849f",
   "metadata": {},
   "outputs": [
    {
     "data": {
      "text/plain": [
       "{'LLama_3_70B': 1, 'GLM4': 2, 'GPT4': 3, 'LLama_3_8B': 4, 'GPT3.5': 5}"
      ]
     },
     "execution_count": 35,
     "metadata": {},
     "output_type": "execute_result"
    }
   ],
   "source": [
    "rank"
   ]
  },
  {
   "cell_type": "code",
   "execution_count": 49,
   "id": "c8b951c3-faad-4250-9bd4-e9a7e50c1222",
   "metadata": {},
   "outputs": [],
   "source": [
    "for key, val in rank.items():\n",
    "    path = '/home/jovyan/Solar/result/' + key + '/Evaluation.json'\n",
    "    data = load_json(path)[\"result\"]\n",
    "    temp = f\"|{val}|{key}|\"\n",
    "    for item in data:\n",
    "        temp += str(round(item[\"acc\"], 4))\n",
    "        temp += '|'\n",
    "    temp += str(round(rank_res[key], 4))\n",
    "    temp += '|'\n",
    "    res += temp\n",
    "    res += '\\n'"
   ]
  },
  {
   "cell_type": "code",
   "execution_count": 51,
   "id": "9c27a232-a45c-4278-8a2a-61e9fbc445df",
   "metadata": {},
   "outputs": [
    {
     "name": "stdout",
     "output_type": "stream",
     "text": [
      "\n",
      "| Rank |   Model  | Catalyst | Co-Catalyst | Light Source | Lamp   | Reactor Type | Reaction Medium | Operation Mode | Overall Average |\n",
      "|------|----------|----------|-------------|--------------|--------|--------------|-----------------|----------------|-----------------|\n",
      "|1|LLama_3_70B|0.8276|0.6207|0.8276|0.6207|0.3103|0.6207|0.8276|0.665|\n",
      "|2|GLM4|0.931|0.4828|0.5517|0.4828|0.5517|0.6897|0.8966|0.6552|\n",
      "|3|GPT4|0.8621|0.4828|0.6552|0.6552|0.4483|0.6207|0.8621|0.6552|\n",
      "|4|LLama_3_8B|0.7931|0.4828|0.5172|0.5172|0.3103|0.6552|0.7241|0.5714|\n",
      "|5|GPT3.5|0.6552|0.4138|0.7241|0.3448|0.3448|0.5172|0.8966|0.5567|\n",
      "\n"
     ]
    }
   ],
   "source": [
    "print(res)"
   ]
  },
  {
   "cell_type": "code",
   "execution_count": 52,
   "id": "ca6708ec-c5d1-4de6-8cfa-dd21d34d0bf7",
   "metadata": {},
   "outputs": [
    {
     "name": "stdout",
     "output_type": "stream",
     "text": [
      "<p>| Rank |   Model  | Catalyst | Co-Catalyst | Light Source | Lamp   | Reactor Type | Reaction Medium | Operation Mode | Overall Average |\n",
      "|------|----------|----------|-------------|--------------|--------|--------------|-----------------|----------------|-----------------|\n",
      "|1|LLama_3_70B|0.8276|0.6207|0.8276|0.6207|0.3103|0.6207|0.8276|0.665|\n",
      "|2|GLM4|0.931|0.4828|0.5517|0.4828|0.5517|0.6897|0.8966|0.6552|\n",
      "|3|GPT4|0.8621|0.4828|0.6552|0.6552|0.4483|0.6207|0.8621|0.6552|\n",
      "|4|LLama_3_8B|0.7931|0.4828|0.5172|0.5172|0.3103|0.6552|0.7241|0.5714|\n",
      "|5|GPT3.5|0.6552|0.4138|0.7241|0.3448|0.3448|0.5172|0.8966|0.5567|</p>\n"
     ]
    }
   ],
   "source": [
    "html_string = markdown.markdown(res)\n",
    "print(html_string)"
   ]
  },
  {
   "cell_type": "code",
   "execution_count": null,
   "id": "96ca136b-6e8a-4e97-8ce4-c24c79ff1f58",
   "metadata": {},
   "outputs": [],
   "source": [
    "with open"
   ]
  }
 ],
 "metadata": {
  "kernelspec": {
   "display_name": "Python 3 (ipykernel)",
   "language": "python",
   "name": "python3"
  },
  "language_info": {
   "codemirror_mode": {
    "name": "ipython",
    "version": 3
   },
   "file_extension": ".py",
   "mimetype": "text/x-python",
   "name": "python",
   "nbconvert_exporter": "python",
   "pygments_lexer": "ipython3",
   "version": "3.11.4"
  }
 },
 "nbformat": 4,
 "nbformat_minor": 5
}
